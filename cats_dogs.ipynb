{
  "nbformat": 4,
  "nbformat_minor": 0,
  "metadata": {
    "colab": {
      "name": "cats_dogs.ipynb",
      "provenance": [],
      "collapsed_sections": []
    },
    "kernelspec": {
      "display_name": "Python 3",
      "name": "python3"
    }
  },
  "cells": [
    {
      "cell_type": "code",
      "metadata": {
        "id": "9updthPHmogM"
      },
      "source": [
        "import tensorflow as tf\n",
        "import numpy as np\n",
        "from keras.preprocessing.image import ImageDataGenerator\n",
        "import keras\n",
        "import matplotlib.pyplot as plt"
      ],
      "execution_count": null,
      "outputs": []
    },
    {
      "cell_type": "code",
      "metadata": {
        "id": "dB3oU2KxnhRV"
      },
      "source": [
        "train_idg = ImageDataGenerator(rescale=1/255, width_shift_range=0.2, height_shift_range=0.3, zoom_range=0.2)"
      ],
      "execution_count": null,
      "outputs": []
    },
    {
      "cell_type": "code",
      "metadata": {
        "id": "SbkF_7gUb8Qm",
        "colab": {
          "base_uri": "https://localhost:8080/",
          "height": 34
        },
        "outputId": "4d595c75-5f14-4f61-c6eb-9710bfdbc7c9"
      },
      "source": [
        "train_data = train_idg.flow_from_directory(directory='drive/My Drive/cats_dogs/dataset/training_set', target_size=(64, 64), batch_size=32, class_mode='binary')"
      ],
      "execution_count": null,
      "outputs": [
        {
          "output_type": "stream",
          "text": [
            "Found 8000 images belonging to 2 classes.\n"
          ],
          "name": "stdout"
        }
      ]
    },
    {
      "cell_type": "code",
      "metadata": {
        "id": "UZnohrISgSUs"
      },
      "source": [
        "test_idg = ImageDataGenerator(rescale=1/255)"
      ],
      "execution_count": null,
      "outputs": []
    },
    {
      "cell_type": "code",
      "metadata": {
        "id": "edNd7igFhO3P",
        "colab": {
          "base_uri": "https://localhost:8080/",
          "height": 34
        },
        "outputId": "26b1944c-d2fa-482d-91b3-08edd695d206"
      },
      "source": [
        "test_data = test_idg.flow_from_directory(directory='drive/My Drive/cats_dogs/dataset/test_set', target_size=(64, 64), batch_size=32, class_mode='binary')"
      ],
      "execution_count": null,
      "outputs": [
        {
          "output_type": "stream",
          "text": [
            "Found 2000 images belonging to 2 classes.\n"
          ],
          "name": "stdout"
        }
      ]
    },
    {
      "cell_type": "code",
      "metadata": {
        "id": "aPKocmIHhbFM"
      },
      "source": [
        "cnn = keras.Sequential()"
      ],
      "execution_count": null,
      "outputs": []
    },
    {
      "cell_type": "code",
      "metadata": {
        "id": "f1uEsqaijilj"
      },
      "source": [
        "cnn.add(keras.layers.Conv2D(filters=10, kernel_size=(3, 3), padding='same', activation='relu', strides=(1, 1), input_shape=[64, 64, 3]))"
      ],
      "execution_count": null,
      "outputs": []
    },
    {
      "cell_type": "code",
      "metadata": {
        "id": "kw80qDeOkunw"
      },
      "source": [
        "cnn.add(keras.layers.MaxPool2D(pool_size=(2, 2), strides=(1, 1)))"
      ],
      "execution_count": null,
      "outputs": []
    },
    {
      "cell_type": "code",
      "metadata": {
        "id": "yh_nRd6ClCj1"
      },
      "source": [
        "cnn.add(keras.layers.Conv2D(filters=10, kernel_size=(3, 3), activation='relu', strides=(1, 1)))"
      ],
      "execution_count": null,
      "outputs": []
    },
    {
      "cell_type": "code",
      "metadata": {
        "id": "osGZoLpSmQV3"
      },
      "source": [
        "cnn.add(keras.layers.MaxPool2D(pool_size=(2, 2), strides=(1, 1)))"
      ],
      "execution_count": null,
      "outputs": []
    },
    {
      "cell_type": "code",
      "metadata": {
        "id": "mX7VwW6FO5Vs"
      },
      "source": [
        "cnn.add(keras.layers.Conv2D(filters=10, kernel_size=(3, 3), activation='relu', strides=(1, 1)))"
      ],
      "execution_count": null,
      "outputs": []
    },
    {
      "cell_type": "code",
      "metadata": {
        "id": "TVTBrqXoO3tV"
      },
      "source": [
        "cnn.add(keras.layers.MaxPool2D(pool_size=(2, 2), strides=(1, 1)))"
      ],
      "execution_count": null,
      "outputs": []
    },
    {
      "cell_type": "code",
      "metadata": {
        "id": "oPhVkl4RmZwr"
      },
      "source": [
        "cnn.add(keras.layers.Flatten())"
      ],
      "execution_count": null,
      "outputs": []
    },
    {
      "cell_type": "code",
      "metadata": {
        "id": "cjoIPLf1oNJ6"
      },
      "source": [
        "cnn.add(keras.layers.Dense(units=128, activation='relu'))"
      ],
      "execution_count": null,
      "outputs": []
    },
    {
      "cell_type": "code",
      "metadata": {
        "id": "sGzvV-Nv72Xf"
      },
      "source": [
        "cnn.add(keras.layers.Dense(units=128, activation='relu'))"
      ],
      "execution_count": null,
      "outputs": []
    },
    {
      "cell_type": "code",
      "metadata": {
        "id": "DyfDD2A7oiET"
      },
      "source": [
        "cnn.add(keras.layers.Dense(units=1, activation='sigmoid'))"
      ],
      "execution_count": null,
      "outputs": []
    },
    {
      "cell_type": "code",
      "metadata": {
        "id": "li65rW6OmeNk"
      },
      "source": [
        "cnn.compile(optimizer='adam', loss='binary_crossentropy', metrics=['accuracy'])"
      ],
      "execution_count": null,
      "outputs": []
    },
    {
      "cell_type": "code",
      "metadata": {
        "id": "KOBssVXIo6Js",
        "colab": {
          "base_uri": "https://localhost:8080/",
          "height": 1000
        },
        "outputId": "6b0c5cc0-bd48-48c4-acd4-fbf1fe2ee0c6"
      },
      "source": [
        "cnn.fit(x=train_data, validation_data=test_data, batch_size=32, epochs=60)"
      ],
      "execution_count": null,
      "outputs": [
        {
          "output_type": "stream",
          "text": [
            "Epoch 1/60\n",
            "250/250 [==============================] - 116s 464ms/step - loss: 0.6897 - accuracy: 0.5469 - val_loss: 0.6725 - val_accuracy: 0.5730\n",
            "Epoch 2/60\n",
            "250/250 [==============================] - 116s 464ms/step - loss: 0.6656 - accuracy: 0.5886 - val_loss: 0.6341 - val_accuracy: 0.6505\n",
            "Epoch 3/60\n",
            "250/250 [==============================] - 120s 482ms/step - loss: 0.6457 - accuracy: 0.6219 - val_loss: 0.6281 - val_accuracy: 0.6425\n",
            "Epoch 4/60\n",
            "250/250 [==============================] - 116s 466ms/step - loss: 0.6264 - accuracy: 0.6503 - val_loss: 0.6774 - val_accuracy: 0.6085\n",
            "Epoch 5/60\n",
            "250/250 [==============================] - 117s 466ms/step - loss: 0.6189 - accuracy: 0.6535 - val_loss: 0.5959 - val_accuracy: 0.6810\n",
            "Epoch 6/60\n",
            "250/250 [==============================] - 117s 468ms/step - loss: 0.6019 - accuracy: 0.6708 - val_loss: 0.6218 - val_accuracy: 0.6665\n",
            "Epoch 7/60\n",
            "250/250 [==============================] - 116s 466ms/step - loss: 0.5930 - accuracy: 0.6861 - val_loss: 0.5733 - val_accuracy: 0.7115\n",
            "Epoch 8/60\n",
            "250/250 [==============================] - 122s 487ms/step - loss: 0.5826 - accuracy: 0.6885 - val_loss: 0.5843 - val_accuracy: 0.6935\n",
            "Epoch 9/60\n",
            "250/250 [==============================] - 116s 463ms/step - loss: 0.5893 - accuracy: 0.6866 - val_loss: 0.6078 - val_accuracy: 0.6870\n",
            "Epoch 10/60\n",
            "250/250 [==============================] - 116s 463ms/step - loss: 0.5744 - accuracy: 0.6994 - val_loss: 0.5668 - val_accuracy: 0.7045\n",
            "Epoch 11/60\n",
            "250/250 [==============================] - 116s 466ms/step - loss: 0.5637 - accuracy: 0.7063 - val_loss: 0.5707 - val_accuracy: 0.6945\n",
            "Epoch 12/60\n",
            "250/250 [==============================] - 116s 463ms/step - loss: 0.5581 - accuracy: 0.7146 - val_loss: 0.5471 - val_accuracy: 0.7290\n",
            "Epoch 13/60\n",
            "250/250 [==============================] - 120s 481ms/step - loss: 0.5588 - accuracy: 0.7132 - val_loss: 0.6613 - val_accuracy: 0.6545\n",
            "Epoch 14/60\n",
            "250/250 [==============================] - 117s 468ms/step - loss: 0.5537 - accuracy: 0.7159 - val_loss: 0.5477 - val_accuracy: 0.7125\n",
            "Epoch 15/60\n",
            "250/250 [==============================] - 117s 468ms/step - loss: 0.5463 - accuracy: 0.7196 - val_loss: 0.5637 - val_accuracy: 0.7030\n",
            "Epoch 16/60\n",
            "250/250 [==============================] - 117s 468ms/step - loss: 0.5393 - accuracy: 0.7316 - val_loss: 0.5458 - val_accuracy: 0.7185\n",
            "Epoch 17/60\n",
            "250/250 [==============================] - 116s 465ms/step - loss: 0.5428 - accuracy: 0.7249 - val_loss: 0.6383 - val_accuracy: 0.6715\n",
            "Epoch 18/60\n",
            "250/250 [==============================] - 121s 484ms/step - loss: 0.5388 - accuracy: 0.7261 - val_loss: 0.5174 - val_accuracy: 0.7515\n",
            "Epoch 19/60\n",
            "250/250 [==============================] - 117s 470ms/step - loss: 0.5315 - accuracy: 0.7334 - val_loss: 0.6571 - val_accuracy: 0.6685\n",
            "Epoch 20/60\n",
            "250/250 [==============================] - 116s 465ms/step - loss: 0.5287 - accuracy: 0.7377 - val_loss: 0.5793 - val_accuracy: 0.7030\n",
            "Epoch 21/60\n",
            "250/250 [==============================] - 116s 464ms/step - loss: 0.5241 - accuracy: 0.7411 - val_loss: 0.5459 - val_accuracy: 0.7215\n",
            "Epoch 22/60\n",
            "250/250 [==============================] - 116s 462ms/step - loss: 0.5313 - accuracy: 0.7376 - val_loss: 0.5867 - val_accuracy: 0.7015\n",
            "Epoch 23/60\n",
            "250/250 [==============================] - 120s 480ms/step - loss: 0.5309 - accuracy: 0.7320 - val_loss: 0.5896 - val_accuracy: 0.6755\n",
            "Epoch 24/60\n",
            "250/250 [==============================] - 115s 460ms/step - loss: 0.5232 - accuracy: 0.7421 - val_loss: 0.5792 - val_accuracy: 0.7000\n",
            "Epoch 25/60\n",
            "250/250 [==============================] - 116s 464ms/step - loss: 0.5231 - accuracy: 0.7480 - val_loss: 0.5483 - val_accuracy: 0.7170\n",
            "Epoch 26/60\n",
            "250/250 [==============================] - 116s 466ms/step - loss: 0.5140 - accuracy: 0.7516 - val_loss: 0.6340 - val_accuracy: 0.6765\n",
            "Epoch 27/60\n",
            "250/250 [==============================] - 116s 465ms/step - loss: 0.5176 - accuracy: 0.7470 - val_loss: 0.5000 - val_accuracy: 0.7630\n",
            "Epoch 28/60\n",
            "250/250 [==============================] - 115s 461ms/step - loss: 0.5202 - accuracy: 0.7435 - val_loss: 0.5415 - val_accuracy: 0.7345\n",
            "Epoch 29/60\n",
            "250/250 [==============================] - 120s 479ms/step - loss: 0.5173 - accuracy: 0.7404 - val_loss: 0.5136 - val_accuracy: 0.7435\n",
            "Epoch 30/60\n",
            "250/250 [==============================] - 116s 465ms/step - loss: 0.5009 - accuracy: 0.7513 - val_loss: 0.5951 - val_accuracy: 0.6975\n",
            "Epoch 31/60\n",
            "250/250 [==============================] - 116s 464ms/step - loss: 0.5091 - accuracy: 0.7479 - val_loss: 0.5302 - val_accuracy: 0.7295\n",
            "Epoch 32/60\n",
            "250/250 [==============================] - 115s 461ms/step - loss: 0.5076 - accuracy: 0.7495 - val_loss: 0.5170 - val_accuracy: 0.7430\n",
            "Epoch 33/60\n",
            "250/250 [==============================] - 116s 464ms/step - loss: 0.5016 - accuracy: 0.7545 - val_loss: 0.5371 - val_accuracy: 0.7270\n",
            "Epoch 34/60\n",
            "250/250 [==============================] - 120s 481ms/step - loss: 0.4947 - accuracy: 0.7606 - val_loss: 0.5339 - val_accuracy: 0.7375\n",
            "Epoch 35/60\n",
            "250/250 [==============================] - 116s 466ms/step - loss: 0.4945 - accuracy: 0.7648 - val_loss: 0.5169 - val_accuracy: 0.7545\n",
            "Epoch 36/60\n",
            "250/250 [==============================] - 116s 463ms/step - loss: 0.4951 - accuracy: 0.7638 - val_loss: 0.5466 - val_accuracy: 0.7235\n",
            "Epoch 37/60\n",
            "250/250 [==============================] - 116s 464ms/step - loss: 0.4949 - accuracy: 0.7621 - val_loss: 0.6222 - val_accuracy: 0.6885\n",
            "Epoch 38/60\n",
            "250/250 [==============================] - 117s 468ms/step - loss: 0.4911 - accuracy: 0.7664 - val_loss: 0.5451 - val_accuracy: 0.7335\n",
            "Epoch 39/60\n",
            "250/250 [==============================] - 121s 482ms/step - loss: 0.4931 - accuracy: 0.7656 - val_loss: 0.5408 - val_accuracy: 0.7345\n",
            "Epoch 40/60\n",
            "250/250 [==============================] - 116s 465ms/step - loss: 0.4934 - accuracy: 0.7620 - val_loss: 0.5258 - val_accuracy: 0.7470\n",
            "Epoch 41/60\n",
            "250/250 [==============================] - 116s 466ms/step - loss: 0.4837 - accuracy: 0.7709 - val_loss: 0.5004 - val_accuracy: 0.7505\n",
            "Epoch 42/60\n",
            "250/250 [==============================] - 116s 465ms/step - loss: 0.4818 - accuracy: 0.7649 - val_loss: 0.4824 - val_accuracy: 0.7660\n",
            "Epoch 43/60\n",
            "250/250 [==============================] - 116s 464ms/step - loss: 0.4804 - accuracy: 0.7642 - val_loss: 0.5315 - val_accuracy: 0.7250\n",
            "Epoch 44/60\n",
            "250/250 [==============================] - 119s 475ms/step - loss: 0.4859 - accuracy: 0.7657 - val_loss: 0.5333 - val_accuracy: 0.7425\n",
            "Epoch 45/60\n",
            "250/250 [==============================] - 115s 460ms/step - loss: 0.4863 - accuracy: 0.7700 - val_loss: 0.4878 - val_accuracy: 0.7675\n",
            "Epoch 46/60\n",
            "250/250 [==============================] - 115s 461ms/step - loss: 0.4792 - accuracy: 0.7710 - val_loss: 0.4778 - val_accuracy: 0.7810\n",
            "Epoch 47/60\n",
            "250/250 [==============================] - 116s 464ms/step - loss: 0.4885 - accuracy: 0.7665 - val_loss: 0.4907 - val_accuracy: 0.7600\n",
            "Epoch 48/60\n",
            "250/250 [==============================] - 115s 461ms/step - loss: 0.4868 - accuracy: 0.7653 - val_loss: 0.4700 - val_accuracy: 0.7800\n",
            "Epoch 49/60\n",
            "250/250 [==============================] - 119s 477ms/step - loss: 0.4815 - accuracy: 0.7705 - val_loss: 0.5206 - val_accuracy: 0.7455\n",
            "Epoch 50/60\n",
            "250/250 [==============================] - 116s 463ms/step - loss: 0.4763 - accuracy: 0.7714 - val_loss: 0.5598 - val_accuracy: 0.7275\n",
            "Epoch 51/60\n",
            "250/250 [==============================] - 115s 461ms/step - loss: 0.4736 - accuracy: 0.7759 - val_loss: 0.5065 - val_accuracy: 0.7555\n",
            "Epoch 52/60\n",
            "250/250 [==============================] - 116s 462ms/step - loss: 0.4660 - accuracy: 0.7807 - val_loss: 0.4878 - val_accuracy: 0.7630\n",
            "Epoch 53/60\n",
            "250/250 [==============================] - 115s 460ms/step - loss: 0.4677 - accuracy: 0.7770 - val_loss: 0.4741 - val_accuracy: 0.7730\n",
            "Epoch 54/60\n",
            "250/250 [==============================] - 115s 461ms/step - loss: 0.4691 - accuracy: 0.7754 - val_loss: 0.4680 - val_accuracy: 0.7745\n",
            "Epoch 55/60\n",
            "250/250 [==============================] - 120s 480ms/step - loss: 0.4736 - accuracy: 0.7775 - val_loss: 0.5370 - val_accuracy: 0.7410\n",
            "Epoch 56/60\n",
            "250/250 [==============================] - 116s 462ms/step - loss: 0.4765 - accuracy: 0.7771 - val_loss: 0.6165 - val_accuracy: 0.6740\n",
            "Epoch 57/60\n",
            "250/250 [==============================] - 116s 466ms/step - loss: 0.4670 - accuracy: 0.7784 - val_loss: 0.4897 - val_accuracy: 0.7680\n",
            "Epoch 58/60\n",
            "250/250 [==============================] - 117s 468ms/step - loss: 0.4659 - accuracy: 0.7797 - val_loss: 0.4736 - val_accuracy: 0.7840\n",
            "Epoch 59/60\n",
            "250/250 [==============================] - 116s 466ms/step - loss: 0.4641 - accuracy: 0.7830 - val_loss: 0.5819 - val_accuracy: 0.7080\n",
            "Epoch 60/60\n",
            "250/250 [==============================] - 121s 484ms/step - loss: 0.4619 - accuracy: 0.7764 - val_loss: 0.5336 - val_accuracy: 0.7415\n"
          ],
          "name": "stdout"
        },
        {
          "output_type": "execute_result",
          "data": {
            "text/plain": [
              "<tensorflow.python.keras.callbacks.History at 0x7f3ebc9994e0>"
            ]
          },
          "metadata": {
            "tags": []
          },
          "execution_count": 77
        }
      ]
    },
    {
      "cell_type": "code",
      "metadata": {
        "id": "AanmyW76-et7",
        "colab": {
          "base_uri": "https://localhost:8080/",
          "height": 34
        },
        "outputId": "1571649b-6b01-43e2-88d6-a1882e2fba29"
      },
      "source": [
        "cnn.save('drive/My Drive/cats_dogs/Model_50_epochs')"
      ],
      "execution_count": null,
      "outputs": [
        {
          "output_type": "stream",
          "text": [
            "INFO:tensorflow:Assets written to: drive/My Drive/cats_dogs/Model_50_epochs/assets\n"
          ],
          "name": "stdout"
        }
      ]
    },
    {
      "cell_type": "code",
      "metadata": {
        "id": "6_EibEpALPsp"
      },
      "source": [
        "from keras.preprocessing.image import load_img, img_to_array, array_to_img"
      ],
      "execution_count": null,
      "outputs": []
    },
    {
      "cell_type": "code",
      "metadata": {
        "id": "D9y117aULs3P"
      },
      "source": [
        "img = load_img('drive/My Drive/cats_dogs/dataset/cat_or_dog_2.jpg', target_size=(64, 64))"
      ],
      "execution_count": null,
      "outputs": []
    },
    {
      "cell_type": "code",
      "metadata": {
        "id": "9pRYm1X7POJ6",
        "colab": {
          "base_uri": "https://localhost:8080/",
          "height": 81
        },
        "outputId": "b6fa929f-5c13-4851-8056-21a4afa894af"
      },
      "source": [
        "img"
      ],
      "execution_count": null,
      "outputs": [
        {
          "output_type": "execute_result",
          "data": {
            "image/png": "[encoded data removed]",
            "text/plain": [
              "<PIL.Image.Image image mode=RGB size=64x64 at 0x7F3EBC701E48>"
            ]
          },
          "metadata": {
            "tags": []
          },
          "execution_count": 94
        }
      ]
    },
    {
      "cell_type": "code",
      "metadata": {
        "id": "be0hFouqON98"
      },
      "source": [
        "img = img_to_array(img)"
      ],
      "execution_count": null,
      "outputs": []
    },
    {
      "cell_type": "code",
      "metadata": {
        "id": "ABykqUZoOUo_"
      },
      "source": [
        "img = img.reshape((1,) + img.shape)"
      ],
      "execution_count": null,
      "outputs": []
    },
    {
      "cell_type": "code",
      "metadata": {
        "id": "GtQdsbjfPzRZ",
        "colab": {
          "base_uri": "https://localhost:8080/",
          "height": 34
        },
        "outputId": "0088f2b0-2336-42e4-cb8f-11828c7c2866"
      },
      "source": [
        "img.shape"
      ],
      "execution_count": null,
      "outputs": [
        {
          "output_type": "execute_result",
          "data": {
            "text/plain": [
              "(1, 64, 64, 3)"
            ]
          },
          "metadata": {
            "tags": []
          },
          "execution_count": 97
        }
      ]
    },
    {
      "cell_type": "code",
      "metadata": {
        "id": "1rDWzy_qO1CV",
        "colab": {
          "base_uri": "https://localhost:8080/",
          "height": 34
        },
        "outputId": "fe13c2dc-a992-4eaf-f6ce-c994bbdc3c72"
      },
      "source": [
        "cnn.predict(x=img)"
      ],
      "execution_count": null,
      "outputs": [
        {
          "output_type": "execute_result",
          "data": {
            "text/plain": [
              "array([[1.]], dtype=float32)"
            ]
          },
          "metadata": {
            "tags": []
          },
          "execution_count": 98
        }
      ]
    },
    {
      "cell_type": "code",
      "metadata": {
        "id": "S_ju1dtHRARX"
      },
      "source": [
        ""
      ],
      "execution_count": null,
      "outputs": []
    }
  ]
}